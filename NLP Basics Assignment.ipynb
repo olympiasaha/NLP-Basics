{
 "cells": [
  {
   "cell_type": "code",
   "execution_count": 1,
   "metadata": {},
   "outputs": [],
   "source": [
    "import spacy\n",
    "nlp=spacy.load('en_core_web_sm')"
   ]
  },
  {
   "cell_type": "markdown",
   "metadata": {},
   "source": [
    "#### 1. Create a Doc object from the file owlcreek.txt"
   ]
  },
  {
   "cell_type": "code",
   "execution_count": 2,
   "metadata": {},
   "outputs": [
    {
     "data": {
      "text/plain": [
       "spacy.tokens.doc.Doc"
      ]
     },
     "execution_count": 2,
     "metadata": {},
     "output_type": "execute_result"
    }
   ],
   "source": [
    "with open('owlcreek.txt') as f:\n",
    "    doc = nlp(f.read())\n",
    "type(doc)"
   ]
  },
  {
   "cell_type": "markdown",
   "metadata": {},
   "source": [
    "#### 2. How many tokens are contained in the file?"
   ]
  },
  {
   "cell_type": "code",
   "execution_count": 3,
   "metadata": {},
   "outputs": [
    {
     "name": "stdout",
     "output_type": "stream",
     "text": [
      "\n",
      "An Occurrence at Owl Creek Bridge\n",
      "\n",
      "by Ambrose Bierce\n",
      "\n",
      "\n",
      "\n",
      "\n",
      "\n",
      "\n",
      "I\n",
      "\n",
      "\n",
      "A man stood upon a railroad bridge in northern Alabama, looking down\n",
      "into the swift water twenty feet below.\n"
     ]
    }
   ],
   "source": [
    "a=doc[:36]\n",
    "print(a)"
   ]
  },
  {
   "cell_type": "code",
   "execution_count": 4,
   "metadata": {},
   "outputs": [
    {
     "data": {
      "text/plain": [
       "4695"
      ]
     },
     "execution_count": 4,
     "metadata": {},
     "output_type": "execute_result"
    }
   ],
   "source": [
    "len(doc)\n",
    "\n",
    "\n"
   ]
  },
  {
   "cell_type": "markdown",
   "metadata": {},
   "source": [
    "#### 3. How many sentences are contained in the file?"
   ]
  },
  {
   "cell_type": "code",
   "execution_count": 5,
   "metadata": {},
   "outputs": [
    {
     "data": {
      "text/plain": [
       "254"
      ]
     },
     "execution_count": 5,
     "metadata": {},
     "output_type": "execute_result"
    }
   ],
   "source": [
    "s = [sentence for sentence in doc.sents]\n",
    "len(s)"
   ]
  },
  {
   "cell_type": "markdown",
   "metadata": {},
   "source": [
    "#### 4. Print the second sentence in the document"
   ]
  },
  {
   "cell_type": "code",
   "execution_count": 6,
   "metadata": {},
   "outputs": [
    {
     "name": "stdout",
     "output_type": "stream",
     "text": [
      "A man stood upon a railroad bridge in northern Alabama, looking down\n",
      "into the swift water twenty feet below.\n"
     ]
    }
   ],
   "source": [
    "print(s[2].text)"
   ]
  },
  {
   "cell_type": "markdown",
   "metadata": {},
   "source": [
    "#### 5. For each token in the sentence above, print its text, POS tag, dep tag and lemma\n",
    "CHALLENGE: Have values line up in columns in the print output."
   ]
  },
  {
   "cell_type": "code",
   "execution_count": 7,
   "metadata": {},
   "outputs": [
    {
     "name": "stdout",
     "output_type": "stream",
     "text": [
      "A DET det a\n",
      "man NOUN nsubj man\n",
      "stood VERB ROOT stand\n",
      "upon ADP prep upon\n",
      "a DET det a\n",
      "railroad NOUN compound railroad\n",
      "bridge NOUN pobj bridge\n",
      "in ADP prep in\n",
      "northern ADJ amod northern\n",
      "Alabama PROPN pobj Alabama\n",
      ", PUNCT punct ,\n",
      "looking VERB advcl look\n",
      "down ADV advmod down\n",
      "\n",
      " SPACE  \n",
      "\n",
      "into ADP prep into\n",
      "the DET det the\n",
      "swift ADJ amod swift\n",
      "water NOUN pobj water\n",
      "twenty NUM nummod twenty\n",
      "feet NOUN npadvmod foot\n",
      "below ADV advmod below\n",
      ". PUNCT punct .\n"
     ]
    }
   ],
   "source": [
    "# NORMAL SOLUTION:\n",
    "\n",
    "for tokens in s[2]:\n",
    "    print(tokens,tokens.pos_,tokens.dep_, tokens.lemma_)"
   ]
  },
  {
   "cell_type": "code",
   "execution_count": 8,
   "metadata": {},
   "outputs": [
    {
     "name": "stdout",
     "output_type": "stream",
     "text": [
      "A               DET   det        a              \n",
      "man             NOUN  nsubj      man            \n",
      "stood           VERB  ROOT       stand          \n",
      "upon            ADP   prep       upon           \n",
      "a               DET   det        a              \n",
      "railroad        NOUN  compound   railroad       \n",
      "bridge          NOUN  pobj       bridge         \n",
      "in              ADP   prep       in             \n",
      "northern        ADJ   amod       northern       \n",
      "Alabama         PROPN pobj       Alabama        \n",
      ",               PUNCT punct      ,              \n",
      "looking         VERB  advcl      look           \n",
      "down            ADV   advmod     down           \n",
      "\n",
      "               SPACE            \n",
      "              \n",
      "into            ADP   prep       into           \n",
      "the             DET   det        the            \n",
      "swift           ADJ   amod       swift          \n",
      "water           NOUN  pobj       water          \n",
      "twenty          NUM   nummod     twenty         \n",
      "feet            NOUN  npadvmod   foot           \n",
      "below           ADV   advmod     below          \n",
      ".               PUNCT punct      .              \n"
     ]
    }
   ],
   "source": [
    "# CHALLENGE SOLUTION:\n",
    "\n",
    "for token in s[2]:\n",
    "    print(f'{token.text:{15}} {token.pos_:{5}} {token.dep_:{10}} {token.lemma_:{15}}')"
   ]
  },
  {
   "cell_type": "markdown",
   "metadata": {},
   "source": [
    "#### 6. Write a matcher called 'Swimming' that finds both occurrences of the phrase \"swimming vigorously\" in the text"
   ]
  },
  {
   "cell_type": "code",
   "execution_count": 9,
   "metadata": {},
   "outputs": [],
   "source": [
    "# Import the Matcher library:\n",
    "\n",
    "from spacy.matcher import Matcher\n",
    "matcher = Matcher(nlp.vocab)"
   ]
  },
  {
   "cell_type": "code",
   "execution_count": 10,
   "metadata": {},
   "outputs": [],
   "source": [
    "# Create a pattern and add it to matcher:\n",
    "\n",
    "pattern = [{'LOWER':'swimming'},{'IS_SPACE':True},{'LOWER':'vigorously'}]\n",
    "\n",
    "matcher.add('swimmer',None,pattern)"
   ]
  },
  {
   "cell_type": "code",
   "execution_count": 11,
   "metadata": {},
   "outputs": [
    {
     "name": "stdout",
     "output_type": "stream",
     "text": [
      "[(8984364056738817612, 1235, 1238), (8984364056738817612, 3493, 3496)]\n"
     ]
    }
   ],
   "source": [
    "# Create a list of matches called \"found_matches\" and print the list:\n",
    "\n",
    "found_matches = matcher(doc)\n",
    "\n",
    "print(found_matches)"
   ]
  },
  {
   "cell_type": "markdown",
   "metadata": {},
   "source": [
    "#### 7. Print the text surrounding each found match"
   ]
  },
  {
   "cell_type": "code",
   "execution_count": 12,
   "metadata": {},
   "outputs": [
    {
     "name": "stdout",
     "output_type": "stream",
     "text": [
      "spring\n",
      "into the stream. By diving I could evade the bullets and, swimming\n",
      "vigorously, reach the bank, take to\n"
     ]
    }
   ],
   "source": [
    "print(doc[1220:1245])"
   ]
  },
  {
   "cell_type": "code",
   "execution_count": 13,
   "metadata": {},
   "outputs": [
    {
     "name": "stdout",
     "output_type": "stream",
     "text": [
      "The hunted man saw all this over his shoulder; he was now swimming\n",
      "vigorously with the current.\n"
     ]
    }
   ],
   "source": [
    "print(doc[3480:3500])"
   ]
  },
  {
   "cell_type": "markdown",
   "metadata": {},
   "source": [
    "#### EXTRA CREDIT:\n",
    "Print the sentence that contains each found match"
   ]
  },
  {
   "cell_type": "code",
   "execution_count": 16,
   "metadata": {},
   "outputs": [
    {
     "name": "stdout",
     "output_type": "stream",
     "text": [
      "1252\n",
      "1226\n",
      "By diving I could evade the bullets and, swimming\n",
      "vigorously, reach the bank, take to the woods and get away home.\n"
     ]
    }
   ],
   "source": [
    "sents = [sent for sent in doc.sents]\n",
    "\n",
    "for s in sents:\n",
    "    if found_matches[0][1] < s.end:\n",
    "        print(s.end)\n",
    "        print(s.start)\n",
    "        print(s)\n",
    "        break"
   ]
  },
  {
   "cell_type": "code",
   "execution_count": 15,
   "metadata": {},
   "outputs": [
    {
     "name": "stdout",
     "output_type": "stream",
     "text": [
      "The hunted man saw all this over his shoulder; he was now swimming\n",
      "vigorously with the current.\n"
     ]
    }
   ],
   "source": [
    "for s in sents:\n",
    "    if found_matches[1][1] < s.end:\n",
    "        print(s)\n",
    "        break"
   ]
  },
  {
   "cell_type": "code",
   "execution_count": 22,
   "metadata": {},
   "outputs": [],
   "source": [
    "doc1=nlp(\"Question-answering is a rich company.\")\n",
    "for chunk in doc1.ents:\n",
    "    print(chunk.text)"
   ]
  },
  {
   "cell_type": "code",
   "execution_count": null,
   "metadata": {},
   "outputs": [],
   "source": []
  }
 ],
 "metadata": {
  "kernelspec": {
   "display_name": "Python 3",
   "language": "python",
   "name": "python3"
  },
  "language_info": {
   "codemirror_mode": {
    "name": "ipython",
    "version": 3
   },
   "file_extension": ".py",
   "mimetype": "text/x-python",
   "name": "python",
   "nbconvert_exporter": "python",
   "pygments_lexer": "ipython3",
   "version": "3.7.1"
  }
 },
 "nbformat": 4,
 "nbformat_minor": 2
}
